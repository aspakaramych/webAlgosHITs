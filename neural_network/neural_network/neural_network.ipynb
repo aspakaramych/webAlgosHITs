{
 "cells": [
  {
   "cell_type": "code",
   "id": "initial_id",
   "metadata": {
    "collapsed": true,
    "ExecuteTime": {
     "end_time": "2025-03-30T05:02:40.688649Z",
     "start_time": "2025-03-30T05:02:39.855899Z"
    }
   },
   "source": [
    "import numpy as np\n",
    "import pandas as pd"
   ],
   "outputs": [],
   "execution_count": 1
  },
  {
   "metadata": {
    "ExecuteTime": {
     "end_time": "2025-03-30T05:03:18.107948Z",
     "start_time": "2025-03-30T05:03:16.307093Z"
    }
   },
   "cell_type": "code",
   "source": [
    "import kagglehub\n",
    "\n",
    "path = kagglehub.dataset_download(\"oddrationale/mnist-in-csv\")\n",
    "\n",
    "print(\"Path to dataset files:\", path)"
   ],
   "id": "26cfb8b980482f82",
   "outputs": [
    {
     "name": "stderr",
     "output_type": "stream",
     "text": [
      "C:\\Users\\vgrig\\miniconda3\\Lib\\site-packages\\tqdm\\auto.py:21: TqdmWarning: IProgress not found. Please update jupyter and ipywidgets. See https://ipywidgets.readthedocs.io/en/stable/user_install.html\n",
      "  from .autonotebook import tqdm as notebook_tqdm\n"
     ]
    },
    {
     "name": "stdout",
     "output_type": "stream",
     "text": [
      "Path to dataset files: C:\\Users\\vgrig\\.cache\\kagglehub\\datasets\\oddrationale\\mnist-in-csv\\versions\\2\n"
     ]
    }
   ],
   "execution_count": 2
  },
  {
   "metadata": {
    "ExecuteTime": {
     "end_time": "2025-03-30T05:03:24.977123Z",
     "start_time": "2025-03-30T05:03:19.387479Z"
    }
   },
   "cell_type": "code",
   "source": [
    "train_csv = pd.read_csv(path + \"/mnist_train.csv\")\n",
    "test_csv = pd.read_csv(path + \"/mnist_test.csv\")\n",
    "# этот файл загружается отдельно\n",
    "train_2_csv = pd.read_csv(\"./data/train.csv\")\n",
    "train_csv"
   ],
   "id": "143720de26d046fb",
   "outputs": [
    {
     "data": {
      "text/plain": [
       "       label  1x1  1x2  1x3  1x4  1x5  1x6  1x7  1x8  1x9  ...  28x19  28x20  \\\n",
       "0          5    0    0    0    0    0    0    0    0    0  ...      0      0   \n",
       "1          0    0    0    0    0    0    0    0    0    0  ...      0      0   \n",
       "2          4    0    0    0    0    0    0    0    0    0  ...      0      0   \n",
       "3          1    0    0    0    0    0    0    0    0    0  ...      0      0   \n",
       "4          9    0    0    0    0    0    0    0    0    0  ...      0      0   \n",
       "...      ...  ...  ...  ...  ...  ...  ...  ...  ...  ...  ...    ...    ...   \n",
       "59995      8    0    0    0    0    0    0    0    0    0  ...      0      0   \n",
       "59996      3    0    0    0    0    0    0    0    0    0  ...      0      0   \n",
       "59997      5    0    0    0    0    0    0    0    0    0  ...      0      0   \n",
       "59998      6    0    0    0    0    0    0    0    0    0  ...      0      0   \n",
       "59999      8    0    0    0    0    0    0    0    0    0  ...      0      0   \n",
       "\n",
       "       28x21  28x22  28x23  28x24  28x25  28x26  28x27  28x28  \n",
       "0          0      0      0      0      0      0      0      0  \n",
       "1          0      0      0      0      0      0      0      0  \n",
       "2          0      0      0      0      0      0      0      0  \n",
       "3          0      0      0      0      0      0      0      0  \n",
       "4          0      0      0      0      0      0      0      0  \n",
       "...      ...    ...    ...    ...    ...    ...    ...    ...  \n",
       "59995      0      0      0      0      0      0      0      0  \n",
       "59996      0      0      0      0      0      0      0      0  \n",
       "59997      0      0      0      0      0      0      0      0  \n",
       "59998      0      0      0      0      0      0      0      0  \n",
       "59999      0      0      0      0      0      0      0      0  \n",
       "\n",
       "[60000 rows x 785 columns]"
      ],
      "text/html": [
       "<div>\n",
       "<style scoped>\n",
       "    .dataframe tbody tr th:only-of-type {\n",
       "        vertical-align: middle;\n",
       "    }\n",
       "\n",
       "    .dataframe tbody tr th {\n",
       "        vertical-align: top;\n",
       "    }\n",
       "\n",
       "    .dataframe thead th {\n",
       "        text-align: right;\n",
       "    }\n",
       "</style>\n",
       "<table border=\"1\" class=\"dataframe\">\n",
       "  <thead>\n",
       "    <tr style=\"text-align: right;\">\n",
       "      <th></th>\n",
       "      <th>label</th>\n",
       "      <th>1x1</th>\n",
       "      <th>1x2</th>\n",
       "      <th>1x3</th>\n",
       "      <th>1x4</th>\n",
       "      <th>1x5</th>\n",
       "      <th>1x6</th>\n",
       "      <th>1x7</th>\n",
       "      <th>1x8</th>\n",
       "      <th>1x9</th>\n",
       "      <th>...</th>\n",
       "      <th>28x19</th>\n",
       "      <th>28x20</th>\n",
       "      <th>28x21</th>\n",
       "      <th>28x22</th>\n",
       "      <th>28x23</th>\n",
       "      <th>28x24</th>\n",
       "      <th>28x25</th>\n",
       "      <th>28x26</th>\n",
       "      <th>28x27</th>\n",
       "      <th>28x28</th>\n",
       "    </tr>\n",
       "  </thead>\n",
       "  <tbody>\n",
       "    <tr>\n",
       "      <th>0</th>\n",
       "      <td>5</td>\n",
       "      <td>0</td>\n",
       "      <td>0</td>\n",
       "      <td>0</td>\n",
       "      <td>0</td>\n",
       "      <td>0</td>\n",
       "      <td>0</td>\n",
       "      <td>0</td>\n",
       "      <td>0</td>\n",
       "      <td>0</td>\n",
       "      <td>...</td>\n",
       "      <td>0</td>\n",
       "      <td>0</td>\n",
       "      <td>0</td>\n",
       "      <td>0</td>\n",
       "      <td>0</td>\n",
       "      <td>0</td>\n",
       "      <td>0</td>\n",
       "      <td>0</td>\n",
       "      <td>0</td>\n",
       "      <td>0</td>\n",
       "    </tr>\n",
       "    <tr>\n",
       "      <th>1</th>\n",
       "      <td>0</td>\n",
       "      <td>0</td>\n",
       "      <td>0</td>\n",
       "      <td>0</td>\n",
       "      <td>0</td>\n",
       "      <td>0</td>\n",
       "      <td>0</td>\n",
       "      <td>0</td>\n",
       "      <td>0</td>\n",
       "      <td>0</td>\n",
       "      <td>...</td>\n",
       "      <td>0</td>\n",
       "      <td>0</td>\n",
       "      <td>0</td>\n",
       "      <td>0</td>\n",
       "      <td>0</td>\n",
       "      <td>0</td>\n",
       "      <td>0</td>\n",
       "      <td>0</td>\n",
       "      <td>0</td>\n",
       "      <td>0</td>\n",
       "    </tr>\n",
       "    <tr>\n",
       "      <th>2</th>\n",
       "      <td>4</td>\n",
       "      <td>0</td>\n",
       "      <td>0</td>\n",
       "      <td>0</td>\n",
       "      <td>0</td>\n",
       "      <td>0</td>\n",
       "      <td>0</td>\n",
       "      <td>0</td>\n",
       "      <td>0</td>\n",
       "      <td>0</td>\n",
       "      <td>...</td>\n",
       "      <td>0</td>\n",
       "      <td>0</td>\n",
       "      <td>0</td>\n",
       "      <td>0</td>\n",
       "      <td>0</td>\n",
       "      <td>0</td>\n",
       "      <td>0</td>\n",
       "      <td>0</td>\n",
       "      <td>0</td>\n",
       "      <td>0</td>\n",
       "    </tr>\n",
       "    <tr>\n",
       "      <th>3</th>\n",
       "      <td>1</td>\n",
       "      <td>0</td>\n",
       "      <td>0</td>\n",
       "      <td>0</td>\n",
       "      <td>0</td>\n",
       "      <td>0</td>\n",
       "      <td>0</td>\n",
       "      <td>0</td>\n",
       "      <td>0</td>\n",
       "      <td>0</td>\n",
       "      <td>...</td>\n",
       "      <td>0</td>\n",
       "      <td>0</td>\n",
       "      <td>0</td>\n",
       "      <td>0</td>\n",
       "      <td>0</td>\n",
       "      <td>0</td>\n",
       "      <td>0</td>\n",
       "      <td>0</td>\n",
       "      <td>0</td>\n",
       "      <td>0</td>\n",
       "    </tr>\n",
       "    <tr>\n",
       "      <th>4</th>\n",
       "      <td>9</td>\n",
       "      <td>0</td>\n",
       "      <td>0</td>\n",
       "      <td>0</td>\n",
       "      <td>0</td>\n",
       "      <td>0</td>\n",
       "      <td>0</td>\n",
       "      <td>0</td>\n",
       "      <td>0</td>\n",
       "      <td>0</td>\n",
       "      <td>...</td>\n",
       "      <td>0</td>\n",
       "      <td>0</td>\n",
       "      <td>0</td>\n",
       "      <td>0</td>\n",
       "      <td>0</td>\n",
       "      <td>0</td>\n",
       "      <td>0</td>\n",
       "      <td>0</td>\n",
       "      <td>0</td>\n",
       "      <td>0</td>\n",
       "    </tr>\n",
       "    <tr>\n",
       "      <th>...</th>\n",
       "      <td>...</td>\n",
       "      <td>...</td>\n",
       "      <td>...</td>\n",
       "      <td>...</td>\n",
       "      <td>...</td>\n",
       "      <td>...</td>\n",
       "      <td>...</td>\n",
       "      <td>...</td>\n",
       "      <td>...</td>\n",
       "      <td>...</td>\n",
       "      <td>...</td>\n",
       "      <td>...</td>\n",
       "      <td>...</td>\n",
       "      <td>...</td>\n",
       "      <td>...</td>\n",
       "      <td>...</td>\n",
       "      <td>...</td>\n",
       "      <td>...</td>\n",
       "      <td>...</td>\n",
       "      <td>...</td>\n",
       "      <td>...</td>\n",
       "    </tr>\n",
       "    <tr>\n",
       "      <th>59995</th>\n",
       "      <td>8</td>\n",
       "      <td>0</td>\n",
       "      <td>0</td>\n",
       "      <td>0</td>\n",
       "      <td>0</td>\n",
       "      <td>0</td>\n",
       "      <td>0</td>\n",
       "      <td>0</td>\n",
       "      <td>0</td>\n",
       "      <td>0</td>\n",
       "      <td>...</td>\n",
       "      <td>0</td>\n",
       "      <td>0</td>\n",
       "      <td>0</td>\n",
       "      <td>0</td>\n",
       "      <td>0</td>\n",
       "      <td>0</td>\n",
       "      <td>0</td>\n",
       "      <td>0</td>\n",
       "      <td>0</td>\n",
       "      <td>0</td>\n",
       "    </tr>\n",
       "    <tr>\n",
       "      <th>59996</th>\n",
       "      <td>3</td>\n",
       "      <td>0</td>\n",
       "      <td>0</td>\n",
       "      <td>0</td>\n",
       "      <td>0</td>\n",
       "      <td>0</td>\n",
       "      <td>0</td>\n",
       "      <td>0</td>\n",
       "      <td>0</td>\n",
       "      <td>0</td>\n",
       "      <td>...</td>\n",
       "      <td>0</td>\n",
       "      <td>0</td>\n",
       "      <td>0</td>\n",
       "      <td>0</td>\n",
       "      <td>0</td>\n",
       "      <td>0</td>\n",
       "      <td>0</td>\n",
       "      <td>0</td>\n",
       "      <td>0</td>\n",
       "      <td>0</td>\n",
       "    </tr>\n",
       "    <tr>\n",
       "      <th>59997</th>\n",
       "      <td>5</td>\n",
       "      <td>0</td>\n",
       "      <td>0</td>\n",
       "      <td>0</td>\n",
       "      <td>0</td>\n",
       "      <td>0</td>\n",
       "      <td>0</td>\n",
       "      <td>0</td>\n",
       "      <td>0</td>\n",
       "      <td>0</td>\n",
       "      <td>...</td>\n",
       "      <td>0</td>\n",
       "      <td>0</td>\n",
       "      <td>0</td>\n",
       "      <td>0</td>\n",
       "      <td>0</td>\n",
       "      <td>0</td>\n",
       "      <td>0</td>\n",
       "      <td>0</td>\n",
       "      <td>0</td>\n",
       "      <td>0</td>\n",
       "    </tr>\n",
       "    <tr>\n",
       "      <th>59998</th>\n",
       "      <td>6</td>\n",
       "      <td>0</td>\n",
       "      <td>0</td>\n",
       "      <td>0</td>\n",
       "      <td>0</td>\n",
       "      <td>0</td>\n",
       "      <td>0</td>\n",
       "      <td>0</td>\n",
       "      <td>0</td>\n",
       "      <td>0</td>\n",
       "      <td>...</td>\n",
       "      <td>0</td>\n",
       "      <td>0</td>\n",
       "      <td>0</td>\n",
       "      <td>0</td>\n",
       "      <td>0</td>\n",
       "      <td>0</td>\n",
       "      <td>0</td>\n",
       "      <td>0</td>\n",
       "      <td>0</td>\n",
       "      <td>0</td>\n",
       "    </tr>\n",
       "    <tr>\n",
       "      <th>59999</th>\n",
       "      <td>8</td>\n",
       "      <td>0</td>\n",
       "      <td>0</td>\n",
       "      <td>0</td>\n",
       "      <td>0</td>\n",
       "      <td>0</td>\n",
       "      <td>0</td>\n",
       "      <td>0</td>\n",
       "      <td>0</td>\n",
       "      <td>0</td>\n",
       "      <td>...</td>\n",
       "      <td>0</td>\n",
       "      <td>0</td>\n",
       "      <td>0</td>\n",
       "      <td>0</td>\n",
       "      <td>0</td>\n",
       "      <td>0</td>\n",
       "      <td>0</td>\n",
       "      <td>0</td>\n",
       "      <td>0</td>\n",
       "      <td>0</td>\n",
       "    </tr>\n",
       "  </tbody>\n",
       "</table>\n",
       "<p>60000 rows × 785 columns</p>\n",
       "</div>"
      ]
     },
     "execution_count": 3,
     "metadata": {},
     "output_type": "execute_result"
    }
   ],
   "execution_count": 3
  },
  {
   "metadata": {
    "ExecuteTime": {
     "end_time": "2025-03-30T05:03:29.360203Z",
     "start_time": "2025-03-30T05:03:27.997823Z"
    }
   },
   "cell_type": "code",
   "source": [
    "x_train = np.array(train_csv.iloc[:, 1:].values)\n",
    "x_2_train = np.array(train_2_csv.iloc[:, 1:].values)\n",
    "y_train = np.array(train_csv.iloc[:, 0].values, )\n",
    "y_2_train = np.array(train_2_csv.iloc[:, 0].values)\n",
    "\n",
    "x_train = np.array(np.concatenate([x_train.data, x_2_train.data], axis=0))\n",
    "y_train = np.array(np.concatenate([y_train.data, y_2_train.data], axis=0))\n",
    "\n",
    "print(x_train.shape)\n",
    "\n",
    "x_train = x_train / 255.0\n",
    "\n",
    "x_test = np.array(test_csv.iloc[:, 1:].values)\n",
    "y_test = np.array(test_csv.iloc[:, 0].values)\n",
    "\n",
    "x_test = x_test / 255.0\n",
    "\n",
    "print(x_test.shape)"
   ],
   "id": "b21ad7a8fb43013e",
   "outputs": [
    {
     "name": "stdout",
     "output_type": "stream",
     "text": [
      "(102000, 784)\n",
      "(10000, 784)\n"
     ]
    }
   ],
   "execution_count": 4
  },
  {
   "metadata": {
    "ExecuteTime": {
     "end_time": "2025-03-30T05:04:08.611833Z",
     "start_time": "2025-03-30T05:04:08.576355Z"
    }
   },
   "cell_type": "code",
   "source": [
    "def to_one_hot(y, num_classes):\n",
    "    return np.eye(num_classes)[y]\n",
    "\n",
    "\n",
    "y_train = to_one_hot(y_train, 10)\n",
    "y_test = to_one_hot(y_test, 10)"
   ],
   "id": "7a2b3458c363cd94",
   "outputs": [],
   "execution_count": 5
  },
  {
   "metadata": {
    "ExecuteTime": {
     "end_time": "2025-03-30T05:04:09.707297Z",
     "start_time": "2025-03-30T05:04:09.698963Z"
    }
   },
   "cell_type": "code",
   "source": [
    "def tanh(x):\n",
    "    return np.tanh(x)\n",
    "\n",
    "\n",
    "def tanh2deriv(out):\n",
    "    return 1 - (out * out)\n",
    "\n",
    "\n",
    "def softmax(x):\n",
    "    temp = np.exp(x)\n",
    "    return temp / np.sum(temp, axis=1, keepdims=True)"
   ],
   "id": "cfb30c23d732afbb",
   "outputs": [],
   "execution_count": 6
  },
  {
   "metadata": {
    "ExecuteTime": {
     "end_time": "2025-03-30T05:04:14.893397Z",
     "start_time": "2025-03-30T05:04:14.884748Z"
    }
   },
   "cell_type": "code",
   "source": [
    "alpha, iterations, hidden_size = (0.1, 150, 256)\n",
    "pixels, num_labels = (784, 10)\n",
    "batch_size = 256"
   ],
   "id": "524e1ee6c81a4b08",
   "outputs": [],
   "execution_count": 7
  },
  {
   "metadata": {
    "ExecuteTime": {
     "end_time": "2025-03-28T03:38:39.785915Z",
     "start_time": "2025-03-28T03:38:39.770243Z"
    }
   },
   "cell_type": "code",
   "source": [
    "np.random.seed(1)\n",
    "weight_0_1 = 0.02 * np.random.random((pixels, hidden_size)) - 0.01\n",
    "weight_1_2 = 0.2 * np.random.random((hidden_size, num_labels)) - 0.1\n",
    "print(weight_0_1.shape)\n",
    "print(weight_1_2.shape)"
   ],
   "id": "8c10eaaf42919eb0",
   "outputs": [
    {
     "name": "stdout",
     "output_type": "stream",
     "text": [
      "(784, 256)\n",
      "(256, 10)\n"
     ]
    }
   ],
   "execution_count": 8
  },
  {
   "metadata": {
    "ExecuteTime": {
     "end_time": "2025-03-28T03:48:22.224639Z",
     "start_time": "2025-03-28T03:38:52.618573Z"
    }
   },
   "cell_type": "code",
   "source": [
    "for j in range(iterations):\n",
    "    correct_cnt = 0\n",
    "    for i in range(int(len(x_train) / batch_size)):\n",
    "        batch_start, batch_end = ((i * batch_size), (i * batch_size + batch_size))\n",
    "        layer_0 = x_train[batch_start:batch_end]\n",
    "        layer_1 = tanh(np.dot(layer_0, weight_0_1))\n",
    "        dropout_mask = np.random.randint(2, size=layer_1.shape)\n",
    "        layer_1 *= dropout_mask * 2\n",
    "        layer_2 = softmax(np.dot(layer_1, weight_1_2))\n",
    "        for k in range(batch_size):\n",
    "            correct_cnt += int(np.argmax(layer_2[k:k + 1]) == np.argmax(y_train[batch_start + k:batch_start + k + 1]))\n",
    "        layer_2_delta = (y_train[batch_start:batch_end] - layer_2) / (batch_size * layer_2.shape[0])\n",
    "        layer_1_delta = layer_2_delta.dot(weight_1_2.T) * tanh2deriv(layer_1)\n",
    "        layer_1_delta *= dropout_mask\n",
    "\n",
    "        weight_1_2 += alpha * layer_1.T.dot(layer_2_delta)\n",
    "        weight_0_1 += alpha * layer_0.T.dot(layer_1_delta)\n",
    "\n",
    "    test_correct_cnt = 0\n",
    "    for i in range(len(x_test)):\n",
    "        layer_0 = x_test[i:i + 1]\n",
    "        layer_1 = tanh(np.dot(layer_0, weight_0_1))\n",
    "        layer_2 = np.dot(layer_1, weight_1_2)\n",
    "        test_correct_cnt += int(np.argmax(layer_2) == np.argmax(y_test[i:i + 1]))\n",
    "    if j % 10 == 0:\n",
    "        print(\n",
    "            f'Iter {j} Test-acc: {test_correct_cnt / float(len(x_test))} Train-acc: {correct_cnt / float(len(x_train))}')"
   ],
   "id": "389e543ac9022432",
   "outputs": [
    {
     "name": "stdout",
     "output_type": "stream",
     "text": [
      "Iter 0 Test-acc: 0.4816 Train-acc: 0.2295\n",
      "Iter 10 Test-acc: 0.7706 Train-acc: 0.7397450980392157\n",
      "Iter 20 Test-acc: 0.8061 Train-acc: 0.7777941176470589\n",
      "Iter 30 Test-acc: 0.8262 Train-acc: 0.8047156862745098\n",
      "Iter 40 Test-acc: 0.8414 Train-acc: 0.8218529411764706\n",
      "Iter 50 Test-acc: 0.8538 Train-acc: 0.833421568627451\n",
      "Iter 60 Test-acc: 0.8607 Train-acc: 0.8429411764705882\n",
      "Iter 70 Test-acc: 0.867 Train-acc: 0.8492647058823529\n",
      "Iter 80 Test-acc: 0.8733 Train-acc: 0.8548431372549019\n",
      "Iter 90 Test-acc: 0.878 Train-acc: 0.8593823529411765\n",
      "Iter 100 Test-acc: 0.881 Train-acc: 0.8637941176470588\n",
      "Iter 110 Test-acc: 0.8828 Train-acc: 0.8671274509803921\n",
      "Iter 120 Test-acc: 0.886 Train-acc: 0.8703235294117647\n",
      "Iter 130 Test-acc: 0.889 Train-acc: 0.8726274509803922\n",
      "Iter 140 Test-acc: 0.8909 Train-acc: 0.8743921568627451\n"
     ]
    }
   ],
   "execution_count": 9
  },
  {
   "metadata": {
    "ExecuteTime": {
     "end_time": "2025-03-28T03:54:26.247817Z",
     "start_time": "2025-03-28T03:54:25.221055Z"
    }
   },
   "cell_type": "code",
   "source": [
    "import json\n",
    "\n",
    "weights_dict = {\n",
    "    \"weight_0_1\": weight_0_1.T.tolist(),\n",
    "    \"weight_1_2\": weight_1_2.T.tolist()\n",
    "}\n",
    "\n",
    "with open(\"./weights/weights.json\", \"w\") as json_file:\n",
    "    json.dump(weights_dict, json_file, indent=4)\n",
    "\n",
    "print(\"Weights saved to weights.json\")"
   ],
   "id": "4ce31bab9a7b5408",
   "outputs": [
    {
     "name": "stdout",
     "output_type": "stream",
     "text": [
      "Weights saved to weights.json\n"
     ]
    }
   ],
   "execution_count": 11
  },
  {
   "metadata": {
    "ExecuteTime": {
     "end_time": "2025-03-30T07:37:46.770334Z",
     "start_time": "2025-03-30T07:37:46.764855Z"
    }
   },
   "cell_type": "code",
   "source": [
    "alpha, iterations = 2, 50\n",
    "pixels, num_labels = 784, 10\n",
    "batch_size = 200"
   ],
   "id": "fb15c77a4222e5ea",
   "outputs": [],
   "execution_count": 27
  },
  {
   "metadata": {
    "ExecuteTime": {
     "end_time": "2025-03-30T07:37:47.330658Z",
     "start_time": "2025-03-30T07:37:47.323051Z"
    }
   },
   "cell_type": "code",
   "source": [
    "inputs_rows, inputs_cols = 28, 28\n",
    "kernel_rows, kernel_cols = 3, 3\n",
    "num_kernels = 16"
   ],
   "id": "7dc8b37ecbd6d061",
   "outputs": [],
   "execution_count": 28
  },
  {
   "metadata": {
    "ExecuteTime": {
     "end_time": "2025-03-30T07:37:47.889245Z",
     "start_time": "2025-03-30T07:37:47.883816Z"
    }
   },
   "cell_type": "code",
   "source": "hidden_size = ((inputs_rows - kernel_rows) * (inputs_cols - kernel_cols)) * num_kernels",
   "id": "686fd925fe224b0d",
   "outputs": [],
   "execution_count": 29
  },
  {
   "metadata": {
    "ExecuteTime": {
     "end_time": "2025-03-30T07:37:49.034603Z",
     "start_time": "2025-03-30T07:37:49.023512Z"
    }
   },
   "cell_type": "code",
   "source": [
    "np.random.seed(1)\n",
    "kernels = 0.02 * np.random.random((kernel_rows * kernel_cols, num_kernels)) - 0.01\n",
    "weight_1_2 = 0.2 * np.random.random((hidden_size, num_labels)) - 0.1"
   ],
   "id": "971f6b41dbbf3989",
   "outputs": [],
   "execution_count": 30
  },
  {
   "metadata": {
    "ExecuteTime": {
     "end_time": "2025-03-30T07:37:49.875370Z",
     "start_time": "2025-03-30T07:37:49.869996Z"
    }
   },
   "cell_type": "code",
   "source": [
    "def get_image_section(layer, row_from, row_to, col_from, col_to):\n",
    "    section = layer[:, row_from:row_to, col_from:col_to]\n",
    "    return section.reshape(-1, 1, row_to - row_from, col_to - col_from)"
   ],
   "id": "99746444e2b559b8",
   "outputs": [],
   "execution_count": 31
  },
  {
   "metadata": {
    "ExecuteTime": {
     "end_time": "2025-03-30T08:21:55.018845Z",
     "start_time": "2025-03-30T07:37:55.834428Z"
    }
   },
   "cell_type": "code",
   "source": [
    "for j in range(iterations):\n",
    "    correct_cnt = 0\n",
    "    for i in range(int(len(x_train) / batch_size)):\n",
    "        batch_start, batch_end = ((i * batch_size), (i * batch_size + batch_size))\n",
    "        layer_0 = x_train[batch_start:batch_end]\n",
    "        layer_0 = layer_0.reshape(layer_0.shape[0], 28, 28)\n",
    "        layer_0.shape\n",
    "\n",
    "        sects = list()\n",
    "        for row_start in range(layer_0.shape[1] - kernel_rows):\n",
    "            for col_start in range(layer_0.shape[2] - kernel_cols):\n",
    "                sect = get_image_section(layer_0, row_start, row_start + kernel_rows, col_start,\n",
    "                                         col_start + kernel_cols)\n",
    "                sects.append(sect)\n",
    "        expanded_input = np.concatenate(sects, axis=1)\n",
    "        es = expanded_input.shape\n",
    "        flattened_input = expanded_input.reshape(es[0] * es[1], -1)\n",
    "        kernel_output = np.dot(flattened_input, kernels)\n",
    "        layer_1 = tanh(kernel_output.reshape(es[0], -1))\n",
    "        dropout_mask = np.random.randint(2, size=layer_1.shape)\n",
    "        layer_1 *= dropout_mask * 2\n",
    "        layer_2 = softmax(np.dot(layer_1, weight_1_2))\n",
    "\n",
    "        for k in range(batch_size):\n",
    "            labelset = y_train[batch_start + k:batch_start + k + 1]\n",
    "            _inc = int(np.argmax(layer_2[k:k + 1]) == np.argmax(labelset))\n",
    "            correct_cnt += _inc\n",
    "\n",
    "        layer_2_delta = (y_train[batch_start:batch_end] - layer_2) / (batch_size * layer_2.shape[0])\n",
    "        layer_1_delta = layer_2_delta.dot(weight_1_2.T) * tanh2deriv(layer_1)\n",
    "        layer_1_delta *= dropout_mask\n",
    "        weight_1_2 += alpha * layer_1.T.dot(layer_2_delta)\n",
    "        lid_reshape = layer_1_delta.reshape(kernel_output.shape)\n",
    "        k_update = flattened_input.T.dot(lid_reshape)\n",
    "        kernels -= alpha * k_update\n",
    "    test_correct_cnt = 0\n",
    "    for i in range(len(x_test)):\n",
    "        layer_0 = x_test[i:i + 1]\n",
    "        layer_0 = layer_0.reshape(layer_0.shape[0], 28, 28)\n",
    "        layer_0.shape\n",
    "\n",
    "        sects = list()\n",
    "        for row_start in range(layer_0.shape[1] - kernel_rows):\n",
    "            for col_start in range(layer_0.shape[2] - kernel_cols):\n",
    "                sect = get_image_section(layer_0, row_start, row_start + kernel_rows, col_start,\n",
    "                                         col_start + kernel_cols)\n",
    "                sects.append(sect)\n",
    "        expanded_input = np.concatenate(sects, axis=1)\n",
    "        es = expanded_input.shape\n",
    "        flattened_input = expanded_input.reshape(es[0] * es[1], -1)\n",
    "        kernel_output = np.dot(flattened_input, kernels)\n",
    "        layer_1 = tanh(kernel_output.reshape(es[0], -1))\n",
    "        layer_2 = softmax(np.dot(layer_1, weight_1_2))\n",
    "\n",
    "        test_correct_cnt += int(np.argmax(layer_2) == np.argmax(y_test[i:i + 1]))\n",
    "    if j % 10 == 0:\n",
    "        print(\n",
    "            f'Iter {j} Test-acc: {test_correct_cnt / float(len(x_test))} Train-acc: {correct_cnt / float(len(x_train))}')"
   ],
   "id": "c4054afd083665e3",
   "outputs": [
    {
     "name": "stdout",
     "output_type": "stream",
     "text": [
      "Iter 0 Test-acc: 0.1541 Train-acc: 0.2502450980392157\n",
      "Iter 10 Test-acc: 0.9247 Train-acc: 0.8787745098039216\n",
      "Iter 20 Test-acc: 0.9249 Train-acc: 0.8885098039215686\n",
      "Iter 30 Test-acc: 0.9219 Train-acc: 0.8920980392156863\n",
      "Iter 40 Test-acc: 0.9123 Train-acc: 0.8641764705882353\n"
     ]
    }
   ],
   "execution_count": 32
  },
  {
   "metadata": {
    "ExecuteTime": {
     "end_time": "2025-03-30T08:32:35.327078Z",
     "start_time": "2025-03-30T08:32:35.052221Z"
    }
   },
   "cell_type": "code",
   "source": [
    "import json\n",
    "\n",
    "weights_dict = {\n",
    "    \"kernels\": kernels.T.tolist(),\n",
    "    \"weight_1_2\": weight_1_2.T.tolist()\n",
    "}\n",
    "\n",
    "with open(\"./weights/weightsCNN.json\", \"w\") as json_file:\n",
    "    json.dump(weights_dict, json_file, indent=4)\n",
    "\n",
    "print(\"Weights saved to weights.json\")"
   ],
   "id": "c58a405e7f073066",
   "outputs": [
    {
     "name": "stdout",
     "output_type": "stream",
     "text": [
      "Weights saved to weights.json\n"
     ]
    }
   ],
   "execution_count": 46
  },
  {
   "metadata": {},
   "cell_type": "code",
   "outputs": [],
   "execution_count": null,
   "source": "",
   "id": "7b87bd0bcfce6409"
  }
 ],
 "metadata": {
  "kernelspec": {
   "display_name": "Python 3",
   "language": "python",
   "name": "python3"
  },
  "language_info": {
   "codemirror_mode": {
    "name": "ipython",
    "version": 2
   },
   "file_extension": ".py",
   "mimetype": "text/x-python",
   "name": "python",
   "nbconvert_exporter": "python",
   "pygments_lexer": "ipython2",
   "version": "2.7.6"
  }
 },
 "nbformat": 4,
 "nbformat_minor": 5
}
