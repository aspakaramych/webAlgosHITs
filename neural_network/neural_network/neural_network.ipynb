{
 "cells": [
  {
   "cell_type": "code",
   "id": "initial_id",
   "metadata": {
    "collapsed": true,
    "ExecuteTime": {
     "end_time": "2025-03-26T07:48:21.094580Z",
     "start_time": "2025-03-26T07:48:20.155210Z"
    }
   },
   "source": [
    "import numpy as np\n",
    "import pandas as pd"
   ],
   "outputs": [],
   "execution_count": 1
  },
  {
   "metadata": {
    "ExecuteTime": {
     "end_time": "2025-03-26T08:19:54.167434Z",
     "start_time": "2025-03-26T08:19:54.152244Z"
    }
   },
   "cell_type": "code",
   "source": [
    "class Tensor(object):\n",
    "    def __init__(self, data, autograd=False, creators=None, creation_op=None, id=None):\n",
    "        self.data = np.array(data)\n",
    "        self.creators = creators\n",
    "        self.creation_op = creation_op\n",
    "        self.grad = None\n",
    "        self.autograd = autograd\n",
    "        self.children = {}\n",
    "        if id is None:\n",
    "            id = np.random.randint(0, 1000000)\n",
    "        self.id = id\n",
    "        if creators is not None:\n",
    "            for c in creators:\n",
    "                if self.id not in c.children:\n",
    "                    c.children[self.id] = 1\n",
    "                else:\n",
    "                    c.children[self.id] += 1\n",
    "\n",
    "    def all_children_grads_accounted_for(self):\n",
    "        for id, cnt in self.children.items():\n",
    "            if cnt != 0:\n",
    "                return False\n",
    "        return True\n",
    "\n",
    "    def backward(self, grad=None, grad_origin=None):\n",
    "        if self.autograd:\n",
    "            if grad_origin is not None:\n",
    "                if self.children[grad_origin.id] == 0:\n",
    "                    raise Exception(\"cannot backprop more than once\")\n",
    "                else:\n",
    "                    self.children[grad_origin.id] -= 1\n",
    "\n",
    "            if self.grad is None:\n",
    "                self.grad = grad\n",
    "            else:\n",
    "                self.grad += grad\n",
    "\n",
    "            if self.creators is not None and (self.all_children_grads_accounted_for() or grad_origin is None):\n",
    "                if self.creation_op == 'add':\n",
    "                    self.creators[0].backward(self.grad, self)\n",
    "                    self.creators[1].backward(self.grad, self)\n",
    "                if self.creation_op == 'neg':\n",
    "                    self.creators[0].backward(self.grad.__neg__())\n",
    "\n",
    "    def __add__(self, other):\n",
    "        if self.autograd and other.autograd:\n",
    "            return Tensor(self.data + other.data, autograd=True, creators=[self, other], creation_op='add')\n",
    "        return Tensor(self.data + other.data)\n",
    "\n",
    "    def __neg__(self):\n",
    "        if self.autograd:\n",
    "            return Tensor(self.data * -1, autograd=True, creators=[self], creation_op='neg')\n",
    "        return Tensor(self.data * -1)\n",
    "\n",
    "    def __sub__(self, other):\n",
    "        if self.autograd:\n",
    "            return Tensor(self.data - other.data, autograd=True, creators=[self, other], creation_op='sub')\n",
    "        return Tensor(self.data - other.data)\n",
    "\n",
    "    def __mul__(self, other):\n",
    "        if self.autograd:\n",
    "            return Tensor(self.data * other.data, autograd=True, creators=[self, other], creation_op='mul')\n",
    "        return Tensor(self.data * other.data)\n",
    "\n",
    "    def sum(self, dim):\n",
    "        if self.autograd:\n",
    "            return Tensor(self.data.sum(dim), autograd=True, creators=[self], creation_op='sum'+str(dim))\n",
    "        return Tensor(self.data.sum(dim))\n",
    "\n",
    "    def transpose(self):\n",
    "        if self.autograd:\n",
    "            return Tensor(self.data.transpose(), autograd=True, creators=[self], creation_op='transpose')\n",
    "        return Tensor(self.data.transpose())\n",
    "\n",
    "    def expand(self, dim, copies):\n",
    "        trans_cmd = list(range(0, self.data.shape))\n",
    "        trans_cmd.insert(dim, len(self.data.shape))\n",
    "        new_shape = list(self.data.shape) + copies\n",
    "        new_data = self.data.repeat(copies).reshape(new_shape)\n",
    "        new_data = new_data.transpose(trans_cmd)\n",
    "        if self.autograd:\n",
    "            return Tensor(new_data, autograd=True, creators=[self], creation_op='expand'+str(dim))\n",
    "        return Tensor(new_data)\n",
    "\n",
    "    def __repr__(self):\n",
    "        return str(self.data.__repr__())\n",
    "\n",
    "    def __str__(self):\n",
    "        return str(self.data.__str__())"
   ],
   "id": "4675d5daf5ce22eb",
   "outputs": [],
   "execution_count": 14
  },
  {
   "metadata": {
    "ExecuteTime": {
     "end_time": "2025-03-26T08:19:54.649632Z",
     "start_time": "2025-03-26T08:19:54.634279Z"
    }
   },
   "cell_type": "code",
   "source": [
    "a = Tensor([1, 2, 3, 4, 5], autograd=True)\n",
    "b = Tensor([2, 2, 2, 2, 2], autograd=True)\n",
    "c = Tensor([5, 4, 3, 2, 1], autograd=True)\n",
    "\n",
    "d = a + (-b)\n",
    "e = (-b) + c\n",
    "f = d + e\n",
    "\n",
    "f.backward(Tensor(np.array([1, 1, 1, 1, 1])))\n",
    "print(b.grad.data == np.array([-2, -2, -2, -2, -2]))\n"
   ],
   "id": "f9c3c30d8caaeb11",
   "outputs": [
    {
     "name": "stdout",
     "output_type": "stream",
     "text": [
      "[ True  True  True  True  True]\n"
     ]
    }
   ],
   "execution_count": 15
  },
  {
   "metadata": {},
   "cell_type": "code",
   "outputs": [],
   "execution_count": null,
   "source": "",
   "id": "2e4d98a457805fdc"
  }
 ],
 "metadata": {
  "kernelspec": {
   "display_name": "Python 3",
   "language": "python",
   "name": "python3"
  },
  "language_info": {
   "codemirror_mode": {
    "name": "ipython",
    "version": 2
   },
   "file_extension": ".py",
   "mimetype": "text/x-python",
   "name": "python",
   "nbconvert_exporter": "python",
   "pygments_lexer": "ipython2",
   "version": "2.7.6"
  }
 },
 "nbformat": 4,
 "nbformat_minor": 5
}
